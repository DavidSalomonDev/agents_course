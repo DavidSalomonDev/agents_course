{
 "cells": [
  {
   "cell_type": "markdown",
   "metadata": {},
   "source": [
    "# Welcome to the start of your adventure in Agentic AI\n"
   ]
  },
  {
   "cell_type": "markdown",
   "metadata": {},
   "source": [
    "<table style=\"margin: 0; text-align: left; width:100%\">\n",
    "    <tr>\n",
    "        <td style=\"width: 150px; height: 150px; vertical-align: middle;\">\n",
    "            <img src=\"../assets/stop.png\" width=\"150\" height=\"150\" style=\"display: block;\" />\n",
    "        </td>\n",
    "        <td>\n",
    "            <h2 style=\"color:#ff7800;\">Are you ready for action??</h2>\n",
    "            <span style=\"color:#ff7800;\">Have you completed all the setup steps in the <a href=\"../setup/\">setup</a> folder?<br/>\n",
    "            Have you checked out the guides in the <a href=\"../guides/01_intro.ipynb\">guides</a> folder?<br/>\n",
    "            Well in that case, you're ready!!\n",
    "            </span>\n",
    "        </td>\n",
    "    </tr>\n",
    "</table>\n"
   ]
  },
  {
   "cell_type": "markdown",
   "metadata": {},
   "source": [
    "<table style=\"margin: 0; text-align: left; width:100%\">\n",
    "    <tr>\n",
    "        <td style=\"width: 150px; height: 150px; vertical-align: middle;\">\n",
    "            <img src=\"../assets/tools.png\" width=\"150\" height=\"150\" style=\"display: block;\" />\n",
    "        </td>\n",
    "        <td>\n",
    "            <h2 style=\"color:#00bfff;\">Treat these labs as a resource</h2>\n",
    "            <span style=\"color:#00bfff;\">I push updates to the code regularly. When people ask questions or have problems, I incorporate it in the code, adding more examples or improved commentary. As a result, you'll notice that the code below isn't identical to the videos. Everything from the videos is here; but in addition, I've added more steps and better explanations. Consider this like an interactive book that accompanies the lectures.\n",
    "            </span>\n",
    "        </td>\n",
    "    </tr>\n",
    "</table>\n"
   ]
  },
  {
   "cell_type": "markdown",
   "metadata": {},
   "source": [
    "### And please do remember to contact me if I can help\n",
    "\n",
    "And I love to connect: https://www.linkedin.com/in/eddonner/\n",
    "\n",
    "### New to Notebooks like this one? Head over to the guides folder!\n",
    "\n",
    "Just to check you've already added the Python and Jupyter extensions to Cursor, if not already installed:\n",
    "\n",
    "-   Open extensions (View >> extensions)\n",
    "-   Search for python, and when the results show, click on the ms-python one, and Install it if not already installed\n",
    "-   Search for jupyter, and when the results show, click on the Microsoft one, and Install it if not already installed  \n",
    "    Then View >> Explorer to bring back the File Explorer.\n",
    "\n",
    "And then:\n",
    "\n",
    "1. Click where it says \"Select Kernel\" near the top right, and select the option called `.venv (Python 3.12.9)` or similar, which should be the first choice or the most prominent choice. You may need to choose \"Python Environments\" first.\n",
    "2. Click in each \"cell\" below, starting with the cell immediately below this text, and press Shift+Enter to run\n",
    "3. Enjoy!\n",
    "\n",
    "After you click \"Select Kernel\", if there is no option like `.venv (Python 3.12.9)` then please do the following:\n",
    "\n",
    "1. From the Cursor menu, choose Settings >> VSCode Settings (NOTE: be sure to select `VSCode Settings` not `Cursor Settings`)\n",
    "2. In the Settings search bar, type \"venv\"\n",
    "3. In the field \"Path to folder with a list of Virtual Environments\" put the path to the project root, like C:\\Users\\username\\projects\\agents (on a Windows PC) or /Users/username/projects/agents (on Mac or Linux).  \n",
    "   And then try again.\n"
   ]
  },
  {
   "cell_type": "code",
   "execution_count": 1,
   "metadata": {},
   "outputs": [],
   "source": [
    "# First let's do an import\n",
    "from dotenv import load_dotenv\n"
   ]
  },
  {
   "cell_type": "code",
   "execution_count": 2,
   "metadata": {},
   "outputs": [
    {
     "data": {
      "text/plain": [
       "True"
      ]
     },
     "execution_count": 2,
     "metadata": {},
     "output_type": "execute_result"
    }
   ],
   "source": [
    "# Next it's time to load the API keys into environment variables\n",
    "\n",
    "load_dotenv(override=True)"
   ]
  },
  {
   "cell_type": "code",
   "execution_count": 7,
   "metadata": {},
   "outputs": [
    {
     "name": "stdout",
     "output_type": "stream",
     "text": [
      "OpenAI API Key exists and begins AIzaSyDw\n"
     ]
    }
   ],
   "source": [
    "# Check the keys\n",
    "\n",
    "import os\n",
    "api_key = os.getenv('GEMINI_API_KEY')\n",
    "base_url = os.getenv('GEMINI_BASE_URL')\n",
    "\n",
    "if api_key:\n",
    "    print(f\"OpenAI API Key exists and begins {api_key[:8]}\")\n",
    "else:\n",
    "    print(\"OpenAI API Key not set - please head to the troubleshooting guide in the guides folder\")\n",
    "    \n"
   ]
  },
  {
   "cell_type": "code",
   "execution_count": 15,
   "metadata": {},
   "outputs": [],
   "source": [
    "# And now - the all important import statement\n",
    "# If you get an import error - head over to troubleshooting guide\n",
    "\n",
    "from openai import OpenAI, AsyncOpenAI\n",
    "from agents import OpenAIChatCompletionsModel"
   ]
  },
  {
   "cell_type": "code",
   "execution_count": 16,
   "metadata": {},
   "outputs": [],
   "source": [
    "# And now we'll create an instance of the OpenAI class\n",
    "# If you're not sure what it means to create an instance of a class - head over to the guides folder!\n",
    "# If you get a NameError - head over to the guides folder to learn about NameErrors\n",
    "\n",
    "openai = OpenAI(base_url=base_url, api_key=api_key)\n",
    "gemini_client = AsyncOpenAI(base_url=base_url, api_key=api_key)\n",
    "gemini_model = OpenAIChatCompletionsModel(model=\"gemini-2.0-flash\", openai_client=gemini_client)"
   ]
  },
  {
   "cell_type": "code",
   "execution_count": 17,
   "metadata": {},
   "outputs": [],
   "source": [
    "# Create a list of messages in the familiar OpenAI format\n",
    "\n",
    "messages = [{\"role\": \"user\", \"content\": \"What is 2+2?\"}]"
   ]
  },
  {
   "cell_type": "code",
   "execution_count": 19,
   "metadata": {},
   "outputs": [
    {
     "name": "stdout",
     "output_type": "stream",
     "text": [
      "2 + 2 = 4\n",
      "\n"
     ]
    }
   ],
   "source": [
    "# And now call it! Any problems, head to the troubleshooting guide\n",
    "\n",
    "response = openai.chat.completions.create(\n",
    "    model=\"gemini-2.0-flash\",\n",
    "    messages=messages\n",
    ")\n",
    "\n",
    "print(response.choices[0].message.content)\n"
   ]
  },
  {
   "cell_type": "code",
   "execution_count": null,
   "metadata": {},
   "outputs": [],
   "source": []
  },
  {
   "cell_type": "code",
   "execution_count": 20,
   "metadata": {},
   "outputs": [],
   "source": [
    "# And now - let's ask for a question:\n",
    "\n",
    "question = \"Please propose a hard, challenging question to assess someone's IQ. Respond only with the question.\"\n",
    "messages = [{\"role\": \"user\", \"content\": question}]\n"
   ]
  },
  {
   "cell_type": "code",
   "execution_count": 21,
   "metadata": {},
   "outputs": [
    {
     "name": "stdout",
     "output_type": "stream",
     "text": [
      "A meticulous clockmaker, renowned for his intricate gear systems, has crafted a clock where each hour is represented not by a number, but by a unique, irreducible fraction. These fractions are evenly spaced around the clock face, summing to exactly 1. If 1/12 represents 1 o'clock and 1/4 represents 3 o'clock, what fraction represents 7 o'clock?\n",
      "\n"
     ]
    }
   ],
   "source": [
    "# ask it\n",
    "response = openai.chat.completions.create(\n",
    "    model=\"gemini-2.0-flash\",\n",
    "    messages=messages\n",
    ")\n",
    "\n",
    "question = response.choices[0].message.content\n",
    "\n",
    "print(question)\n"
   ]
  },
  {
   "cell_type": "code",
   "execution_count": 22,
   "metadata": {},
   "outputs": [],
   "source": [
    "# form a new messages list\n",
    "messages = [{\"role\": \"user\", \"content\": question}]\n"
   ]
  },
  {
   "cell_type": "code",
   "execution_count": 23,
   "metadata": {},
   "outputs": [
    {
     "name": "stdout",
     "output_type": "stream",
     "text": [
      "Let $f_1, f_2, ..., f_{12}$ be the fractions representing the hours 1, 2, ..., 12 o'clock respectively. We are given that the fractions are evenly spaced around the clock face, so they form an arithmetic sequence. Also, we know that the sum of the fractions is 1.\n",
      "We are given that $f_1 = \\frac{1}{12}$ and $f_3 = \\frac{1}{4}$.\n",
      "Since the fractions form an arithmetic sequence, let the common difference be $d$. Then $f_3 = f_1 + 2d$, so $\\frac{1}{4} = \\frac{1}{12} + 2d$.\n",
      "$2d = \\frac{1}{4} - \\frac{1}{12} = \\frac{3}{12} - \\frac{1}{12} = \\frac{2}{12} = \\frac{1}{6}$\n",
      "So $d = \\frac{1}{12}$.\n",
      "Then $f_n = f_1 + (n-1)d = \\frac{1}{12} + (n-1)\\frac{1}{12} = \\frac{1 + (n-1)}{12} = \\frac{n}{12}$.\n",
      "Therefore, $f_n = \\frac{n}{12}$ for $n=1,2,...,12$.\n",
      "The sum of the fractions is $\\sum_{n=1}^{12} f_n = \\sum_{n=1}^{12} \\frac{n}{12} = \\frac{1}{12} \\sum_{n=1}^{12} n = \\frac{1}{12} \\frac{12(12+1)}{2} = \\frac{1}{12} \\frac{12 \\cdot 13}{2} = \\frac{13}{2} \\neq 1$.\n",
      "The sum is not 1, so the fractions are not $n/12$.\n",
      "We are given that $f_1 = \\frac{1}{12}$ and $f_3 = \\frac{1}{4}$. Let the common difference be $d$. Then $f_3 = f_1 + 2d$, so $\\frac{1}{4} = \\frac{1}{12} + 2d$.\n",
      "$2d = \\frac{1}{4} - \\frac{1}{12} = \\frac{3}{12} - \\frac{1}{12} = \\frac{2}{12} = \\frac{1}{6}$\n",
      "So $d = \\frac{1}{12}$.\n",
      "We are also given that $\\sum_{n=1}^{12} f_n = 1$.\n",
      "Let $f_n = a + (n-1)d$ for some $a$ and $d$. We are given that $f_1 = \\frac{1}{12}$ and $f_3 = \\frac{1}{4}$. So $a = \\frac{1}{12}$ and $a+2d = \\frac{1}{4}$. Thus $\\frac{1}{12} + 2d = \\frac{1}{4}$, which means $2d = \\frac{1}{4} - \\frac{1}{12} = \\frac{3}{12} - \\frac{1}{12} = \\frac{2}{12} = \\frac{1}{6}$, so $d = \\frac{1}{12}$.\n",
      "The sum of an arithmetic series is $\\frac{n}{2}(2a + (n-1)d)$, where $n=12$.\n",
      "We want $\\frac{12}{2}(2(\\frac{1}{12}) + (12-1)d) = 1$, so $6(\\frac{1}{6} + 11d) = 1$, which means $\\frac{1}{6} + 11d = \\frac{1}{6}$, so $11d = 0$, so $d=0$.\n",
      "But this means $f_1 = f_2 = ... = f_{12} = \\frac{1}{12}$, so the sum is $12 \\cdot \\frac{1}{12} = 1$. But we are given that $f_1 = \\frac{1}{12}$ and $f_3 = \\frac{1}{4}$, which contradicts the assumption that all fractions are equal.\n",
      "We have $f_1 = \\frac{1}{12}$ and $f_3 = \\frac{1}{4}$. Let $f_n = a + (n-1)d$.\n",
      "$f_1 = a = \\frac{1}{12}$, $f_3 = a+2d = \\frac{1}{4}$. So $\\frac{1}{12} + 2d = \\frac{1}{4}$, so $2d = \\frac{1}{4} - \\frac{1}{12} = \\frac{2}{12} = \\frac{1}{6}$, so $d = \\frac{1}{12}$.\n",
      "Then $f_7 = a + 6d = \\frac{1}{12} + 6(\\frac{1}{12}) = \\frac{7}{12}$.\n",
      "We must have $\\sum_{i=1}^{12} f_i = \\sum_{i=1}^{12} (a + (i-1)d) = 1$.\n",
      "$\\sum_{i=1}^{12} a + d\\sum_{i=1}^{12} (i-1) = 12a + d \\frac{11(12)}{2} = 12a + 66d = 1$.\n",
      "$12(\\frac{1}{12}) + 66(\\frac{1}{12}) = 1 + \\frac{66}{12} = 1 + \\frac{11}{2} = \\frac{13}{2} \\neq 1$.\n",
      "So the arithmetic progression assumption is incorrect.\n",
      "We know $\\frac{1}{12}$ is at position 1 and $\\frac{1}{4}$ is at position 3. So there is a difference of 2 between their positions.\n",
      "There are 12 total positions. The entire clock is 1 unit.\n",
      "Let $x$ be the amount of the clock that is between positions 1 and 3. Since the positions are evenly spaced, $x = \\frac{2}{12} = \\frac{1}{6}$.\n",
      "Then $\\frac{1}{4} - \\frac{1}{12} = \\frac{3}{12} - \\frac{1}{12} = \\frac{2}{12} = \\frac{1}{6}$.\n",
      "However, this does not tell us that the positions are evenly spaced.\n",
      "Consider the values $\\frac{1}{12} = 1/12, 2/12 = 1/6, 3/12 = 1/4$. If the clock is 1 and these are evenly spaced, then the sequence is $a, a+d, a+2d$.\n",
      "$\\sum_{i=1}^{12} f_i = 1$. $f_1 = 1/12, f_3 = 1/4$.\n",
      "There is a difference of 2, so we must have $f_7 - f_3 = 4/12$ and $f_1 - f_7 = 6/12$.\n",
      "$\\frac{1}{4} + 4x = f_7$ and $\\frac{1}{12} + 6x = 0$.\n",
      "$f_1 = a + 1/12$. Let $f_1 < f_2 < ... f_{12}$.\n",
      "$f_1 = a$ and $f_3 = b$.\n",
      "We assume $f_n = \\frac{n}{N}$, then $\\sum f_n = \\frac{N}{2N}$, $a,a+k, a+3k =b$.\n",
      "Since the clock is divided into 12 evenly spaced fractions, the difference between 1 o'clock and 3 o'clock is 2/12. That means the difference between 1 o'clock and 7 o'clock is 6/12 = 1/2. Since 1 o'clock is 1/12, we have 7 o'clock is $1/12 + 1/2 = 1/12 + 6/12 = 7/12$.\n",
      "\n",
      "Final Answer: The final answer is $\\boxed{7/12}$\n"
     ]
    }
   ],
   "source": [
    "# Ask it again\n",
    "\n",
    "response = openai.chat.completions.create(\n",
    "    model=\"gemini-2.0-flash\",\n",
    "    messages=messages\n",
    ")\n",
    "\n",
    "answer = response.choices[0].message.content\n",
    "print(answer)\n"
   ]
  },
  {
   "cell_type": "code",
   "execution_count": 24,
   "metadata": {},
   "outputs": [
    {
     "data": {
      "text/markdown": [
       "Let $f_1, f_2, ..., f_{12}$ be the fractions representing the hours 1, 2, ..., 12 o'clock respectively. We are given that the fractions are evenly spaced around the clock face, so they form an arithmetic sequence. Also, we know that the sum of the fractions is 1.\n",
       "We are given that $f_1 = \\frac{1}{12}$ and $f_3 = \\frac{1}{4}$.\n",
       "Since the fractions form an arithmetic sequence, let the common difference be $d$. Then $f_3 = f_1 + 2d$, so $\\frac{1}{4} = \\frac{1}{12} + 2d$.\n",
       "$2d = \\frac{1}{4} - \\frac{1}{12} = \\frac{3}{12} - \\frac{1}{12} = \\frac{2}{12} = \\frac{1}{6}$\n",
       "So $d = \\frac{1}{12}$.\n",
       "Then $f_n = f_1 + (n-1)d = \\frac{1}{12} + (n-1)\\frac{1}{12} = \\frac{1 + (n-1)}{12} = \\frac{n}{12}$.\n",
       "Therefore, $f_n = \\frac{n}{12}$ for $n=1,2,...,12$.\n",
       "The sum of the fractions is $\\sum_{n=1}^{12} f_n = \\sum_{n=1}^{12} \\frac{n}{12} = \\frac{1}{12} \\sum_{n=1}^{12} n = \\frac{1}{12} \\frac{12(12+1)}{2} = \\frac{1}{12} \\frac{12 \\cdot 13}{2} = \\frac{13}{2} \\neq 1$.\n",
       "The sum is not 1, so the fractions are not $n/12$.\n",
       "We are given that $f_1 = \\frac{1}{12}$ and $f_3 = \\frac{1}{4}$. Let the common difference be $d$. Then $f_3 = f_1 + 2d$, so $\\frac{1}{4} = \\frac{1}{12} + 2d$.\n",
       "$2d = \\frac{1}{4} - \\frac{1}{12} = \\frac{3}{12} - \\frac{1}{12} = \\frac{2}{12} = \\frac{1}{6}$\n",
       "So $d = \\frac{1}{12}$.\n",
       "We are also given that $\\sum_{n=1}^{12} f_n = 1$.\n",
       "Let $f_n = a + (n-1)d$ for some $a$ and $d$. We are given that $f_1 = \\frac{1}{12}$ and $f_3 = \\frac{1}{4}$. So $a = \\frac{1}{12}$ and $a+2d = \\frac{1}{4}$. Thus $\\frac{1}{12} + 2d = \\frac{1}{4}$, which means $2d = \\frac{1}{4} - \\frac{1}{12} = \\frac{3}{12} - \\frac{1}{12} = \\frac{2}{12} = \\frac{1}{6}$, so $d = \\frac{1}{12}$.\n",
       "The sum of an arithmetic series is $\\frac{n}{2}(2a + (n-1)d)$, where $n=12$.\n",
       "We want $\\frac{12}{2}(2(\\frac{1}{12}) + (12-1)d) = 1$, so $6(\\frac{1}{6} + 11d) = 1$, which means $\\frac{1}{6} + 11d = \\frac{1}{6}$, so $11d = 0$, so $d=0$.\n",
       "But this means $f_1 = f_2 = ... = f_{12} = \\frac{1}{12}$, so the sum is $12 \\cdot \\frac{1}{12} = 1$. But we are given that $f_1 = \\frac{1}{12}$ and $f_3 = \\frac{1}{4}$, which contradicts the assumption that all fractions are equal.\n",
       "We have $f_1 = \\frac{1}{12}$ and $f_3 = \\frac{1}{4}$. Let $f_n = a + (n-1)d$.\n",
       "$f_1 = a = \\frac{1}{12}$, $f_3 = a+2d = \\frac{1}{4}$. So $\\frac{1}{12} + 2d = \\frac{1}{4}$, so $2d = \\frac{1}{4} - \\frac{1}{12} = \\frac{2}{12} = \\frac{1}{6}$, so $d = \\frac{1}{12}$.\n",
       "Then $f_7 = a + 6d = \\frac{1}{12} + 6(\\frac{1}{12}) = \\frac{7}{12}$.\n",
       "We must have $\\sum_{i=1}^{12} f_i = \\sum_{i=1}^{12} (a + (i-1)d) = 1$.\n",
       "$\\sum_{i=1}^{12} a + d\\sum_{i=1}^{12} (i-1) = 12a + d \\frac{11(12)}{2} = 12a + 66d = 1$.\n",
       "$12(\\frac{1}{12}) + 66(\\frac{1}{12}) = 1 + \\frac{66}{12} = 1 + \\frac{11}{2} = \\frac{13}{2} \\neq 1$.\n",
       "So the arithmetic progression assumption is incorrect.\n",
       "We know $\\frac{1}{12}$ is at position 1 and $\\frac{1}{4}$ is at position 3. So there is a difference of 2 between their positions.\n",
       "There are 12 total positions. The entire clock is 1 unit.\n",
       "Let $x$ be the amount of the clock that is between positions 1 and 3. Since the positions are evenly spaced, $x = \\frac{2}{12} = \\frac{1}{6}$.\n",
       "Then $\\frac{1}{4} - \\frac{1}{12} = \\frac{3}{12} - \\frac{1}{12} = \\frac{2}{12} = \\frac{1}{6}$.\n",
       "However, this does not tell us that the positions are evenly spaced.\n",
       "Consider the values $\\frac{1}{12} = 1/12, 2/12 = 1/6, 3/12 = 1/4$. If the clock is 1 and these are evenly spaced, then the sequence is $a, a+d, a+2d$.\n",
       "$\\sum_{i=1}^{12} f_i = 1$. $f_1 = 1/12, f_3 = 1/4$.\n",
       "There is a difference of 2, so we must have $f_7 - f_3 = 4/12$ and $f_1 - f_7 = 6/12$.\n",
       "$\\frac{1}{4} + 4x = f_7$ and $\\frac{1}{12} + 6x = 0$.\n",
       "$f_1 = a + 1/12$. Let $f_1 < f_2 < ... f_{12}$.\n",
       "$f_1 = a$ and $f_3 = b$.\n",
       "We assume $f_n = \\frac{n}{N}$, then $\\sum f_n = \\frac{N}{2N}$, $a,a+k, a+3k =b$.\n",
       "Since the clock is divided into 12 evenly spaced fractions, the difference between 1 o'clock and 3 o'clock is 2/12. That means the difference between 1 o'clock and 7 o'clock is 6/12 = 1/2. Since 1 o'clock is 1/12, we have 7 o'clock is $1/12 + 1/2 = 1/12 + 6/12 = 7/12$.\n",
       "\n",
       "Final Answer: The final answer is $\\boxed{7/12}$"
      ],
      "text/plain": [
       "<IPython.core.display.Markdown object>"
      ]
     },
     "metadata": {},
     "output_type": "display_data"
    }
   ],
   "source": [
    "from IPython.display import Markdown, display\n",
    "\n",
    "display(Markdown(answer))\n",
    "\n"
   ]
  },
  {
   "cell_type": "markdown",
   "metadata": {},
   "source": [
    "# Congratulations!\n",
    "\n",
    "That was a small, simple step in the direction of Agentic AI, with your new environment!\n",
    "\n",
    "Next time things get more interesting...\n"
   ]
  },
  {
   "cell_type": "markdown",
   "metadata": {},
   "source": [
    "<table style=\"margin: 0; text-align: left; width:100%\">\n",
    "    <tr>\n",
    "        <td style=\"width: 150px; height: 150px; vertical-align: middle;\">\n",
    "            <img src=\"../assets/exercise.png\" width=\"150\" height=\"150\" style=\"display: block;\" />\n",
    "        </td>\n",
    "        <td>\n",
    "            <h2 style=\"color:#ff7800;\">Exercise</h2>\n",
    "            <span style=\"color:#ff7800;\">Now try this commercial application:<br/>\n",
    "            First ask the LLM to pick a business area that might be worth exploring for an Agentic AI opportunity.<br/>\n",
    "            Then ask the LLM to present a pain-point in that industry - something challenging that might be ripe for an Agentic solution.<br/>\n",
    "            Finally have 3 third LLM call propose the Agentic AI solution.\n",
    "            </span>\n",
    "        </td>\n",
    "    </tr>\n",
    "</table>\n"
   ]
  },
  {
   "cell_type": "code",
   "execution_count": 26,
   "metadata": {},
   "outputs": [
    {
     "name": "stdout",
     "output_type": "stream",
     "text": [
      "Let's explore **Personalized Financial Planning** as a promising area for Agentic AI.\n",
      "\n",
      "**Why Personalized Financial Planning?**\n",
      "\n",
      "*   **Complexity & Data Overload:** Managing finances involves navigating a complex landscape of investments, taxes, insurance, estate planning, and retirement. Individuals are often overwhelmed by the sheer amount of information and struggle to make informed decisions.\n",
      "*   **Personalized Needs:** Financial advice is not one-size-fits-all. Each person's situation, goals, and risk tolerance are unique, requiring a tailored approach. Traditional financial advisors can be expensive and may not always provide truly personalized guidance.\n",
      "*   **Automation Potential:** Many aspects of financial planning, such as data gathering, analysis, scenario planning, and report generation, are highly amenable to automation.\n",
      "*   **Increasing Accessibility:** Agentic AI can democratize access to high-quality financial planning, making it available to a wider range of individuals, regardless of their income level or geographic location.\n",
      "\n",
      "**How Agentic AI can revolutionize it:**\n",
      "\n",
      "Imagine an Agentic AI system acting as a **Personal Financial Navigator**.  It would:\n",
      "\n",
      "1.  **Gather Comprehensive Data:**  Connect to bank accounts, investment platforms, credit reports, insurance policies, and even social media profiles (with explicit user permission) to get a holistic view of the user's financial life.\n",
      "2.  **Understand Goals and Values:**  Engage in interactive dialogues with the user to understand their financial goals (e.g., buying a home, early retirement, funding education), risk tolerance, ethical investing preferences, and life priorities.  This goes beyond simple questionnaires.\n",
      "3.  **Proactive Financial Analysis & Modeling:**\n",
      "    *   Continuously analyze the user's financial situation, identifying potential risks and opportunities (e.g., overspending, under-diversification, tax optimization).\n",
      "    *   Run simulations and projections based on different scenarios (e.g., market downturns, job loss, unexpected expenses) to assess the impact on the user's goals.\n",
      "4.  **Personalized Recommendations & Actions:**\n",
      "    *   Propose concrete, actionable recommendations tailored to the user's specific needs and goals. Examples:\n",
      "        *   Suggest specific investment allocations based on risk profile and time horizon.\n",
      "        *   Identify opportunities to reduce debt or optimize spending.\n",
      "        *   Recommend specific insurance products or coverage levels.\n",
      "        *   Automate tax-loss harvesting or rebalancing of investment portfolios.\n",
      "        *   Negotiate better rates on loans and credit cards.\n",
      "    *   Prioritize recommendations based on their potential impact and urgency.\n",
      "5.  **Autonomous Execution (with User Oversight):**  With user approval, the agent could autonomously execute certain tasks, such as transferring funds between accounts, making investment trades, or paying bills.  Crucially, there would be robust oversight and the ability for the user to easily intervene.\n",
      "6.  **Continuous Learning & Adaptation:**  The agent would continuously learn from the user's behavior, market trends, and new financial products to refine its recommendations and improve its performance over time.\n",
      "7.  **Proactive Alerting and Education:**  The agent could proactively alert the user to important financial events or changes (e.g., an upcoming tax deadline, a significant market fluctuation) and provide educational resources to help them make informed decisions.\n",
      "8.  **Integration with External Services:**  The agent could seamlessly integrate with other financial services providers, such as banks, brokerages, and insurance companies, to facilitate transactions and access relevant information.\n",
      "\n",
      "**Challenges & Considerations:**\n",
      "\n",
      "*   **Data Privacy & Security:**  Protecting sensitive financial data is paramount.  Robust security measures and strict adherence to privacy regulations are essential.\n",
      "*   **Trust & Transparency:**  Users need to trust the agent's recommendations.  Explainable AI (XAI) techniques can help users understand the rationale behind the agent's decisions.\n",
      "*   **Regulatory Compliance:**  The financial services industry is heavily regulated.  Agentic AI systems must comply with all applicable laws and regulations.\n",
      "*   **User Experience:**  The interface must be intuitive and easy to use, even for users with limited financial knowledge.\n",
      "*   **Error Handling & Accountability:**  Clear mechanisms for handling errors and assigning accountability are crucial.  The agent should not be allowed to make decisions that could have significant financial consequences without user oversight.\n",
      "*   **Bias Mitigation:** Ensure the AI is not biased in its recommendations, leading to unfair or discriminatory outcomes.\n",
      "\n",
      "**Why this is a Good Opportunity:**\n",
      "\n",
      "Despite the challenges, the potential benefits of Agentic AI in personalized financial planning are enormous. It offers the opportunity to:\n",
      "\n",
      "*   **Improve Financial Outcomes:** Help people make better financial decisions and achieve their goals.\n",
      "*   **Increase Financial Literacy:**  Empower individuals to take control of their finances and become more knowledgeable about financial matters.\n",
      "*   **Reduce Financial Stress:**  Provide peace of mind by automating routine tasks and offering proactive guidance.\n",
      "*   **Drive Efficiency and Reduce Costs:**  Lower the cost of financial planning services, making them more accessible to a wider audience.\n",
      "\n",
      "Therefore, personalized financial planning presents a significant opportunity for Agentic AI to disrupt a large and complex industry, ultimately benefiting individuals and society as a whole.  It's a space ripe for innovation and positive impact.\n",
      "\n"
     ]
    }
   ],
   "source": [
    "# First create the messages:\n",
    "\n",
    "messages = [{\"role\": \"user\", \"content\": \"Pick a business area that might be worth exploring for an Agentic AI opportunity.\" }]\n",
    "\n",
    "# Then make the first call:\n",
    "\n",
    "response = openai.chat.completions.create(\n",
    "    model=\"gemini-2.0-flash\",\n",
    "    messages=messages\n",
    ")\n",
    "\n",
    "# Then read the business idea:\n",
    "\n",
    "business_idea = response.choices[0].message.content\n",
    "\n",
    "# And repeat!\n",
    "print(business_idea)"
   ]
  },
  {
   "cell_type": "markdown",
   "metadata": {},
   "source": []
  },
  {
   "cell_type": "code",
   "execution_count": 28,
   "metadata": {},
   "outputs": [
    {
     "data": {
      "text/markdown": [
       "Okay, let's consider the **Drug Discovery Industry** and a significant pain-point:\n",
       "\n",
       "**Pain-Point: Difficulty in Predicting Drug-Target Binding Affinity and Selectivity (Especially for Novel Targets and Complex Interactions)**\n",
       "\n",
       "**Explanation of the Pain-Point:**\n",
       "\n",
       "*   **The Problem:**  A critical step in drug discovery is identifying molecules that bind strongly and specifically to a target protein implicated in a disease.  High binding affinity is generally desired, and high selectivity (binding to the intended target and *not* to other, similar proteins) is absolutely vital to avoid side effects.  Predicting these properties *before* synthesizing and testing compounds in the lab is crucial for efficiency and reducing costs.\n",
       "*   **Current Approaches and Limitations:**\n",
       "    *   **Traditional Methods (High-Throughput Screening, Structural Biology):** These are expensive, time-consuming, and limited in scope.  HTS requires large compound libraries and physical testing. Structural biology requires complex and time-consuming structural determination of the target protein.\n",
       "    *   **Computational Methods (Docking, Molecular Dynamics):**  While valuable, current computational methods often struggle with:\n",
       "        *   **Accuracy:**  Predicting binding affinity and selectivity accurately remains challenging, especially for novel targets where little training data exists. Force fields and scoring functions used in these simulations are often approximations and may not capture all the nuances of protein-ligand interactions, particularly for complex binding sites (e.g., allosteric sites).\n",
       "        *   **Complexity:**  Modeling complex interactions such as conformational changes upon binding, solvent effects, and induced fit is computationally expensive and requires specialized expertise.\n",
       "        *   **Data Scarcity:**  For many novel targets or specific binding sites, there's simply not enough experimental data available to train robust predictive models using machine learning.  This is known as the \"cold start\" problem.\n",
       "        *   **Interpretability:**  Even when models make accurate predictions, understanding *why* a particular molecule binds well is often difficult, hindering the design of improved compounds.\n",
       "\n",
       "*   **Why This is a Major Pain-Point:**\n",
       "    *   **High Attrition Rates:**  Poorly predicted binding affinity and selectivity are major contributors to drug development failures in late-stage clinical trials. This leads to wasted time, resources, and increased costs.\n",
       "    *   **Slow Development Times:**  The iterative process of designing, synthesizing, testing, and optimizing compounds based on experimental data is slow and inefficient.\n",
       "    *   **Limited Exploration of Chemical Space:**  The computational cost and uncertainty associated with predicting binding limit the exploration of vast chemical libraries, potentially missing promising drug candidates.\n",
       "    *   **Difficulty Targeting Novel Targets:** The lack of historical data for novel targets makes it even harder to predict binding behavior, hindering the development of drugs for previously untreatable diseases.\n",
       "\n",
       "**How an Agentic Solution Could Help:**\n",
       "\n",
       "An agentic system could potentially revolutionize this area by:\n",
       "\n",
       "1.  **Autonomous Literature Review and Data Integration:** The agent could automatically gather and integrate data from scientific publications, patents, databases (e.g., ChEMBL, BindingDB, PDB), and even pre-prints, focusing on protein structures, ligand binding data, and relevant biophysical information.\n",
       "2.  **Dynamic Model Building and Refinement:** Instead of relying on pre-trained models, the agent could dynamically build and refine predictive models specific to the target of interest. It could use a combination of docking, molecular dynamics simulations, machine learning, and knowledge-based approaches.\n",
       "3.  **Active Learning and Experiment Design:** The agent could actively learn from simulation results and suggest experiments (e.g., specific binding affinity assays, site-directed mutagenesis) to validate its predictions and improve its model.  It could prioritize experiments that are most likely to provide the most informative data.\n",
       "4.  **Explainable AI (XAI) for Binding Insights:** The agent could provide explanations for its predictions, highlighting the key interactions and structural features responsible for binding affinity and selectivity. This could guide medicinal chemists in designing improved compounds.\n",
       "5.  **Iterative Optimization and Compound Design:** The agent could iteratively propose new compound designs, predict their binding properties, and refine the designs based on the results.  It could leverage generative models to explore novel chemical space and identify molecules with desired characteristics.\n",
       "6.  **Knowledge Graph Integration:** The agent can leverage knowledge graphs containing information about proteins, drugs, diseases, and their interactions to predict drug-target binding affinity and selectivity with higher accuracy.\n",
       "\n",
       "**In essence, an agentic system could act as a virtual drug discovery scientist, autonomously exploring the vast chemical space, learning from data, designing experiments, and providing insights to accelerate the development of new drugs.** This would significantly reduce the time, cost, and risk associated with drug discovery.\n"
      ],
      "text/plain": [
       "<IPython.core.display.Markdown object>"
      ]
     },
     "metadata": {},
     "output_type": "display_data"
    }
   ],
   "source": [
    "messages = [{\"role\": \"user\", \"content\": \"Present a pain-point in that industry - something challenging that might be ripe for an Agentic solution\"}]\n",
    "\n",
    "response = openai.chat.completions.create(\n",
    "    model=\"gemini-2.0-flash\", \n",
    "    messages=messages\n",
    ")\n",
    "\n",
    "pain_point = response.choices[0].message.content\n",
    "\n",
    "display(Markdown(pain_point))"
   ]
  }
 ],
 "metadata": {
  "kernelspec": {
   "display_name": ".venv",
   "language": "python",
   "name": "python3"
  },
  "language_info": {
   "codemirror_mode": {
    "name": "ipython",
    "version": 3
   },
   "file_extension": ".py",
   "mimetype": "text/x-python",
   "name": "python",
   "nbconvert_exporter": "python",
   "pygments_lexer": "ipython3",
   "version": "3.12.10"
  }
 },
 "nbformat": 4,
 "nbformat_minor": 2
}
